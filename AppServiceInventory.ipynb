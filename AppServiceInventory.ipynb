{
 "cells": [
  {
   "cell_type": "code",
   "execution_count": 1,
   "metadata": {},
   "outputs": [],
   "source": [
    "# Imports\n",
    "import arcgis\n",
    "from arcgis.gis import GIS\n",
    "from getpass import getpass\n",
    "import pandas as pd\n",
    "import csv"
   ]
  },
  {
   "cell_type": "markdown",
   "metadata": {},
   "source": [
    "https://developers.arcgis.com/python/sample-notebooks/inventory-organizational-content/"
   ]
  },
  {
   "cell_type": "code",
   "execution_count": 2,
   "metadata": {},
   "outputs": [
    {
     "name": "stdout",
     "output_type": "stream",
     "text": [
      "········\n",
      "Enter password: ········\n"
     ]
    }
   ],
   "source": [
    "# Define source and target portals. Connect to them using accounts with administrative privileges:\n",
    "source_password = getpass()\n",
    "gis = GIS(\"y\", username='x')\n",
    "source_admin_username = 'x'"
   ]
  },
  {
   "cell_type": "code",
   "execution_count": null,
   "metadata": {},
   "outputs": [],
   "source": [
    "# Validate\n",
    "print(\"Successfully logged in as: \" + gis.properties.user.username)"
   ]
  },
  {
   "cell_type": "code",
   "execution_count": null,
   "metadata": {},
   "outputs": [],
   "source": [
    "org_users = gis.users.search()\n",
    "print(f'{len(org_users)} users found')\n",
    "org_users[:50]"
   ]
  },
  {
   "cell_type": "code",
   "execution_count": null,
   "metadata": {},
   "outputs": [],
   "source": [
    "max_items=125\n",
    "qe = f\"type:Web Mapping Application, owner:{gis.users.me.username}\"\n",
    "content = gis.content.search(query=qe, outside_org=False, sort_field='title', max_items=max_items)"
   ]
  },
  {
   "cell_type": "code",
   "execution_count": null,
   "metadata": {},
   "outputs": [],
   "source": [
    "content"
   ]
  },
  {
   "cell_type": "code",
   "execution_count": null,
   "metadata": {},
   "outputs": [],
   "source": [
    "# return content for each user in org, compile into a single list\n",
    "org_content = []\n",
    "\n",
    "for user in org_users:\n",
    "    qe = f\"owner: {user.username}\"\n",
    "    user_content = gis.content.advanced_search(query=qe, max_items=-1)['results']\n",
    "    org_content += user_content\n",
    "    \n",
    "print(f\"{len(org_content)} items found in org\")"
   ]
  },
  {
   "cell_type": "code",
   "execution_count": null,
   "metadata": {},
   "outputs": [],
   "source": [
    "content_df = pd.DataFrame(org_content)\n",
    "content_df.head()"
   ]
  },
  {
   "cell_type": "code",
   "execution_count": null,
   "metadata": {},
   "outputs": [],
   "source": [
    "# use value_counts() to see how many items you have with a particular key:value pair\n",
    "content_df.type.value_counts().head(10)"
   ]
  },
  {
   "cell_type": "code",
   "execution_count": null,
   "metadata": {},
   "outputs": [],
   "source": [
    "view_columns = ['id','title','owner','type','access','url']\n",
    "content_df[view_columns].head()"
   ]
  },
  {
   "cell_type": "code",
   "execution_count": null,
   "metadata": {},
   "outputs": [],
   "source": [
    "# Creating masks with .apply and lambda functions\n",
    "app_filter = content_df.type.apply(lambda x: x.endswith(('Application', 'StoryMap', 'Data Collection')))\n",
    "apps_df = content_df[app_filter][view_columns]\n",
    "apps_df"
   ]
  },
  {
   "cell_type": "code",
   "execution_count": null,
   "metadata": {},
   "outputs": [],
   "source": [
    "# Creating masks with .apply and lambda functions\n",
    "service_filter = content_df.type.apply(lambda x: x.endswith(('Service')))\n",
    "service_df = content_df[service_filter][view_columns]\n",
    "service_df"
   ]
  },
  {
   "cell_type": "code",
   "execution_count": null,
   "metadata": {},
   "outputs": [],
   "source": [
    "# Exporting data to a csv\n",
    "target_path = \"Content_Applications.csv\"\n",
    "apps_df.to_csv(target_path)"
   ]
  },
  {
   "cell_type": "code",
   "execution_count": null,
   "metadata": {},
   "outputs": [],
   "source": []
  }
 ],
 "metadata": {
  "kernelspec": {
   "display_name": "Python 3",
   "language": "python",
   "name": "python3"
  },
  "language_info": {
   "codemirror_mode": {
    "name": "ipython",
    "version": 3
   },
   "file_extension": ".py",
   "mimetype": "text/x-python",
   "name": "python",
   "nbconvert_exporter": "python",
   "pygments_lexer": "ipython3",
   "version": "3.7.6"
  }
 },
 "nbformat": 4,
 "nbformat_minor": 4
}
